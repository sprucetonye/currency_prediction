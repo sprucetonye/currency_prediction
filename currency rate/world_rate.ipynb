{
 "cells": [
  {
   "cell_type": "markdown",
   "metadata": {},
   "source": [
    "## importing all necessary packages to work with the data"
   ]
  },
  {
   "cell_type": "raw",
   "metadata": {},
   "source": [
    "* https://www.cbn.gov.ng/rates/exrate.asp\n",
    "## \n",
    "DAS/WDAS = Dutch Auction System/Wholesale Dutch Auction System, \n",
    "IFEM is Inter-bank Foreign Exchange Market, BDC is Bureau de Change"
   ]
  },
  {
   "cell_type": "code",
   "execution_count": 1,
   "metadata": {},
   "outputs": [],
   "source": [
    "import pandas as pd\n",
    "import numpy as np\n",
    "import matplotlib\n",
    "import matplotlib.pyplot as plt\n",
    "import seaborn as sns\n",
    "\n",
    "\n",
    "\n",
    "%matplotlib inline"
   ]
  },
  {
   "cell_type": "code",
   "execution_count": 2,
   "metadata": {},
   "outputs": [
    {
     "name": "stdout",
     "output_type": "stream",
     "text": [
      "pandas version is: 1.1.3\n",
      "numpy version is : 1.18.5\n",
      "matplotlib version is : 2.2.5\n"
     ]
    }
   ],
   "source": [
    "print('pandas version is: {}'.format(pd.__version__))\n",
    "print('numpy version is : {}'.format(np.__version__)) \n",
    "print('matplotlib version is : {}'.format(matplotlib.__version__))"
   ]
  },
  {
   "cell_type": "markdown",
   "metadata": {},
   "source": [
    "### let's import our datasets and view it"
   ]
  },
  {
   "cell_type": "code",
   "execution_count": 3,
   "metadata": {},
   "outputs": [
    {
     "data": {
      "text/html": [
       "<div>\n",
       "<style scoped>\n",
       "    .dataframe tbody tr th:only-of-type {\n",
       "        vertical-align: middle;\n",
       "    }\n",
       "\n",
       "    .dataframe tbody tr th {\n",
       "        vertical-align: top;\n",
       "    }\n",
       "\n",
       "    .dataframe thead th {\n",
       "        text-align: right;\n",
       "    }\n",
       "</style>\n",
       "<table border=\"1\" class=\"dataframe\">\n",
       "  <thead>\n",
       "    <tr style=\"text-align: right;\">\n",
       "      <th></th>\n",
       "      <th>Year</th>\n",
       "      <th>Month</th>\n",
       "      <th>DAS (USD)</th>\n",
       "      <th>IFEM (USD)</th>\n",
       "      <th>BDC (USD)</th>\n",
       "      <th>GB Pounds</th>\n",
       "      <th>EURO</th>\n",
       "      <th>CFA Franc</th>\n",
       "    </tr>\n",
       "  </thead>\n",
       "  <tbody>\n",
       "    <tr>\n",
       "      <th>1</th>\n",
       "      <td>2004</td>\n",
       "      <td>136.08</td>\n",
       "      <td>137.76</td>\n",
       "      <td>147.65</td>\n",
       "      <td>247.93</td>\n",
       "      <td>171.67</td>\n",
       "      <td>0.16</td>\n",
       "      <td>NaN</td>\n",
       "    </tr>\n",
       "    <tr>\n",
       "      <th>2</th>\n",
       "      <td>2004</td>\n",
       "      <td>135.16</td>\n",
       "      <td>136.44</td>\n",
       "      <td>142.95</td>\n",
       "      <td>252.78</td>\n",
       "      <td>171.09</td>\n",
       "      <td>0.20</td>\n",
       "      <td>NaN</td>\n",
       "    </tr>\n",
       "    <tr>\n",
       "      <th>3</th>\n",
       "      <td>2004</td>\n",
       "      <td>134.47</td>\n",
       "      <td>134.80</td>\n",
       "      <td>139.92</td>\n",
       "      <td>245.47</td>\n",
       "      <td>164.88</td>\n",
       "      <td>0.25</td>\n",
       "      <td>NaN</td>\n",
       "    </tr>\n",
       "    <tr>\n",
       "      <th>4</th>\n",
       "      <td>2004</td>\n",
       "      <td>133.51</td>\n",
       "      <td>137.23</td>\n",
       "      <td>138.85</td>\n",
       "      <td>240.26</td>\n",
       "      <td>159.87</td>\n",
       "      <td>0.24</td>\n",
       "      <td>NaN</td>\n",
       "    </tr>\n",
       "    <tr>\n",
       "      <th>5</th>\n",
       "      <td>2004</td>\n",
       "      <td>133.01</td>\n",
       "      <td>134.81</td>\n",
       "      <td>139.64</td>\n",
       "      <td>237.80</td>\n",
       "      <td>159.75</td>\n",
       "      <td>0.24</td>\n",
       "      <td>NaN</td>\n",
       "    </tr>\n",
       "  </tbody>\n",
       "</table>\n",
       "</div>"
      ],
      "text/plain": [
       "   Year   Month  DAS (USD)  IFEM (USD) BDC (USD)  GB Pounds  EURO  CFA Franc\n",
       "1  2004  136.08     137.76      147.65    247.93     171.67  0.16        NaN\n",
       "2  2004  135.16     136.44      142.95    252.78     171.09  0.20        NaN\n",
       "3  2004  134.47     134.80      139.92    245.47     164.88  0.25        NaN\n",
       "4  2004  133.51     137.23      138.85    240.26     159.87  0.24        NaN\n",
       "5  2004  133.01     134.81      139.64    237.80     159.75  0.24        NaN"
      ]
     },
     "execution_count": 3,
     "metadata": {},
     "output_type": "execute_result"
    }
   ],
   "source": [
    "df = pd.read_csv('./MonthlyAverageExhRate22032021.csv', index_col=1)\n",
    "df.head()"
   ]
  },
  {
   "cell_type": "code",
   "execution_count": 4,
   "metadata": {},
   "outputs": [
    {
     "data": {
      "text/html": [
       "<div>\n",
       "<style scoped>\n",
       "    .dataframe tbody tr th:only-of-type {\n",
       "        vertical-align: middle;\n",
       "    }\n",
       "\n",
       "    .dataframe tbody tr th {\n",
       "        vertical-align: top;\n",
       "    }\n",
       "\n",
       "    .dataframe thead th {\n",
       "        text-align: right;\n",
       "    }\n",
       "</style>\n",
       "<table border=\"1\" class=\"dataframe\">\n",
       "  <thead>\n",
       "    <tr style=\"text-align: right;\">\n",
       "      <th></th>\n",
       "      <th>Year</th>\n",
       "      <th>Month</th>\n",
       "      <th>DAS (USD)</th>\n",
       "      <th>IFEM (USD)</th>\n",
       "      <th>BDC (USD)</th>\n",
       "      <th>GB Pounds</th>\n",
       "      <th>EURO</th>\n",
       "      <th>CFA Franc</th>\n",
       "    </tr>\n",
       "  </thead>\n",
       "  <tbody>\n",
       "    <tr>\n",
       "      <th>10</th>\n",
       "      <td>2020</td>\n",
       "      <td>NaN</td>\n",
       "      <td>381.0</td>\n",
       "      <td>459.50</td>\n",
       "      <td>494.71</td>\n",
       "      <td>448.82</td>\n",
       "      <td>0.68</td>\n",
       "      <td>NaN</td>\n",
       "    </tr>\n",
       "    <tr>\n",
       "      <th>11</th>\n",
       "      <td>2020</td>\n",
       "      <td>NaN</td>\n",
       "      <td>381.0</td>\n",
       "      <td>472.74</td>\n",
       "      <td>503.49</td>\n",
       "      <td>451.09</td>\n",
       "      <td>0.68</td>\n",
       "      <td>NaN</td>\n",
       "    </tr>\n",
       "    <tr>\n",
       "      <th>12</th>\n",
       "      <td>2020</td>\n",
       "      <td>NaN</td>\n",
       "      <td>381.0</td>\n",
       "      <td>471.62</td>\n",
       "      <td>511.67</td>\n",
       "      <td>463.54</td>\n",
       "      <td>0.70</td>\n",
       "      <td>NaN</td>\n",
       "    </tr>\n",
       "    <tr>\n",
       "      <th>1</th>\n",
       "      <td>2021</td>\n",
       "      <td>NaN</td>\n",
       "      <td>381.0</td>\n",
       "      <td>472.40</td>\n",
       "      <td>519.70</td>\n",
       "      <td>463.84</td>\n",
       "      <td>0.71</td>\n",
       "      <td>NaN</td>\n",
       "    </tr>\n",
       "    <tr>\n",
       "      <th>2</th>\n",
       "      <td>2021</td>\n",
       "      <td>NaN</td>\n",
       "      <td>381.0</td>\n",
       "      <td>476.05</td>\n",
       "      <td>528.05</td>\n",
       "      <td>460.96</td>\n",
       "      <td>0.70</td>\n",
       "      <td>NaN</td>\n",
       "    </tr>\n",
       "  </tbody>\n",
       "</table>\n",
       "</div>"
      ],
      "text/plain": [
       "    Year  Month  DAS (USD)  IFEM (USD) BDC (USD)  GB Pounds  EURO  CFA Franc\n",
       "10  2020    NaN      381.0      459.50    494.71     448.82  0.68        NaN\n",
       "11  2020    NaN      381.0      472.74    503.49     451.09  0.68        NaN\n",
       "12  2020    NaN      381.0      471.62    511.67     463.54  0.70        NaN\n",
       "1   2021    NaN      381.0      472.40    519.70     463.84  0.71        NaN\n",
       "2   2021    NaN      381.0      476.05    528.05     460.96  0.70        NaN"
      ]
     },
     "execution_count": 4,
     "metadata": {},
     "output_type": "execute_result"
    }
   ],
   "source": [
    "df.tail()"
   ]
  },
  {
   "cell_type": "code",
   "execution_count": 5,
   "metadata": {},
   "outputs": [
    {
     "name": "stdout",
     "output_type": "stream",
     "text": [
      "<class 'pandas.core.frame.DataFrame'>\n",
      "Int64Index: 206 entries, 1 to 2\n",
      "Data columns (total 8 columns):\n",
      " #   Column      Non-Null Count  Dtype  \n",
      "---  ------      --------------  -----  \n",
      " 0   Year        206 non-null    int64  \n",
      " 1   Month       134 non-null    float64\n",
      " 2   DAS (USD)   205 non-null    float64\n",
      " 3   IFEM (USD)  206 non-null    float64\n",
      " 4   BDC (USD)   206 non-null    object \n",
      " 5   GB Pounds   206 non-null    float64\n",
      " 6   EURO        206 non-null    float64\n",
      " 7   CFA Franc   0 non-null      float64\n",
      "dtypes: float64(6), int64(1), object(1)\n",
      "memory usage: 14.5+ KB\n"
     ]
    }
   ],
   "source": [
    "df.info()"
   ]
  },
  {
   "cell_type": "code",
   "execution_count": 6,
   "metadata": {},
   "outputs": [
    {
     "data": {
      "text/html": [
       "<div>\n",
       "<style scoped>\n",
       "    .dataframe tbody tr th:only-of-type {\n",
       "        vertical-align: middle;\n",
       "    }\n",
       "\n",
       "    .dataframe tbody tr th {\n",
       "        vertical-align: top;\n",
       "    }\n",
       "\n",
       "    .dataframe thead th {\n",
       "        text-align: right;\n",
       "    }\n",
       "</style>\n",
       "<table border=\"1\" class=\"dataframe\">\n",
       "  <thead>\n",
       "    <tr style=\"text-align: right;\">\n",
       "      <th></th>\n",
       "      <th>Year</th>\n",
       "      <th>Month</th>\n",
       "      <th>DAS (USD)</th>\n",
       "      <th>IFEM (USD)</th>\n",
       "      <th>GB Pounds</th>\n",
       "      <th>EURO</th>\n",
       "      <th>CFA Franc</th>\n",
       "    </tr>\n",
       "  </thead>\n",
       "  <tbody>\n",
       "    <tr>\n",
       "      <th>count</th>\n",
       "      <td>206.000000</td>\n",
       "      <td>134.000000</td>\n",
       "      <td>205.000000</td>\n",
       "      <td>206.000000</td>\n",
       "      <td>206.000000</td>\n",
       "      <td>206.000000</td>\n",
       "      <td>0.0</td>\n",
       "    </tr>\n",
       "    <tr>\n",
       "      <th>mean</th>\n",
       "      <td>2012.087379</td>\n",
       "      <td>142.694925</td>\n",
       "      <td>195.148244</td>\n",
       "      <td>225.003107</td>\n",
       "      <td>238.517379</td>\n",
       "      <td>0.359515</td>\n",
       "      <td>NaN</td>\n",
       "    </tr>\n",
       "    <tr>\n",
       "      <th>std</th>\n",
       "      <td>4.966437</td>\n",
       "      <td>14.473423</td>\n",
       "      <td>81.870739</td>\n",
       "      <td>112.344734</td>\n",
       "      <td>82.770941</td>\n",
       "      <td>0.122923</td>\n",
       "      <td>NaN</td>\n",
       "    </tr>\n",
       "    <tr>\n",
       "      <th>min</th>\n",
       "      <td>2004.000000</td>\n",
       "      <td>117.720000</td>\n",
       "      <td>0.000000</td>\n",
       "      <td>118.700000</td>\n",
       "      <td>144.970000</td>\n",
       "      <td>0.160000</td>\n",
       "      <td>NaN</td>\n",
       "    </tr>\n",
       "    <tr>\n",
       "      <th>25%</th>\n",
       "      <td>2008.000000</td>\n",
       "      <td>128.922500</td>\n",
       "      <td>133.770000</td>\n",
       "      <td>143.977500</td>\n",
       "      <td>174.880000</td>\n",
       "      <td>0.270000</td>\n",
       "      <td>NaN</td>\n",
       "    </tr>\n",
       "    <tr>\n",
       "      <th>50%</th>\n",
       "      <td>2012.000000</td>\n",
       "      <td>148.975000</td>\n",
       "      <td>158.200000</td>\n",
       "      <td>161.780000</td>\n",
       "      <td>207.195000</td>\n",
       "      <td>0.315000</td>\n",
       "      <td>NaN</td>\n",
       "    </tr>\n",
       "    <tr>\n",
       "      <th>75%</th>\n",
       "      <td>2016.000000</td>\n",
       "      <td>157.290000</td>\n",
       "      <td>305.220000</td>\n",
       "      <td>359.000000</td>\n",
       "      <td>326.987500</td>\n",
       "      <td>0.500000</td>\n",
       "      <td>NaN</td>\n",
       "    </tr>\n",
       "    <tr>\n",
       "      <th>max</th>\n",
       "      <td>2021.000000</td>\n",
       "      <td>169.680000</td>\n",
       "      <td>381.000000</td>\n",
       "      <td>494.700000</td>\n",
       "      <td>463.840000</td>\n",
       "      <td>0.710000</td>\n",
       "      <td>NaN</td>\n",
       "    </tr>\n",
       "  </tbody>\n",
       "</table>\n",
       "</div>"
      ],
      "text/plain": [
       "              Year       Month   DAS (USD)  IFEM (USD)   GB Pounds  \\\n",
       "count   206.000000  134.000000  205.000000  206.000000  206.000000   \n",
       "mean   2012.087379  142.694925  195.148244  225.003107  238.517379   \n",
       "std       4.966437   14.473423   81.870739  112.344734   82.770941   \n",
       "min    2004.000000  117.720000    0.000000  118.700000  144.970000   \n",
       "25%    2008.000000  128.922500  133.770000  143.977500  174.880000   \n",
       "50%    2012.000000  148.975000  158.200000  161.780000  207.195000   \n",
       "75%    2016.000000  157.290000  305.220000  359.000000  326.987500   \n",
       "max    2021.000000  169.680000  381.000000  494.700000  463.840000   \n",
       "\n",
       "             EURO  CFA Franc  \n",
       "count  206.000000        0.0  \n",
       "mean     0.359515        NaN  \n",
       "std      0.122923        NaN  \n",
       "min      0.160000        NaN  \n",
       "25%      0.270000        NaN  \n",
       "50%      0.315000        NaN  \n",
       "75%      0.500000        NaN  \n",
       "max      0.710000        NaN  "
      ]
     },
     "execution_count": 6,
     "metadata": {},
     "output_type": "execute_result"
    }
   ],
   "source": [
    "df.describe()"
   ]
  },
  {
   "cell_type": "code",
   "execution_count": 7,
   "metadata": {},
   "outputs": [
    {
     "data": {
      "text/plain": [
       "Index(['Year', 'Month', 'DAS (USD)', 'IFEM (USD)', 'BDC (USD)', 'GB Pounds',\n",
       "       'EURO', 'CFA Franc'],\n",
       "      dtype='object')"
      ]
     },
     "execution_count": 7,
     "metadata": {},
     "output_type": "execute_result"
    }
   ],
   "source": [
    "df.columns"
   ]
  },
  {
   "cell_type": "code",
   "execution_count": 8,
   "metadata": {},
   "outputs": [
    {
     "data": {
      "text/plain": [
       "Int64Index([ 1,  2,  3,  4,  5,  6,  7,  8,  9, 10,\n",
       "            ...\n",
       "             5,  6,  7,  8,  9, 10, 11, 12,  1,  2],\n",
       "           dtype='int64', length=206)"
      ]
     },
     "execution_count": 8,
     "metadata": {},
     "output_type": "execute_result"
    }
   ],
   "source": [
    "df.index"
   ]
  },
  {
   "cell_type": "code",
   "execution_count": 9,
   "metadata": {},
   "outputs": [
    {
     "data": {
      "text/plain": [
       "array([[2004, 136.08, 137.76, ..., 171.67, 0.16, nan],\n",
       "       [2004, 135.16, 136.44, ..., 171.09, 0.2, nan],\n",
       "       [2004, 134.47, 134.8, ..., 164.88, 0.25, nan],\n",
       "       ...,\n",
       "       [2020, nan, 381.0, ..., 463.54, 0.7, nan],\n",
       "       [2021, nan, 381.0, ..., 463.84, 0.71, nan],\n",
       "       [2021, nan, 381.0, ..., 460.96, 0.7, nan]], dtype=object)"
      ]
     },
     "execution_count": 9,
     "metadata": {},
     "output_type": "execute_result"
    }
   ],
   "source": [
    "df.values"
   ]
  },
  {
   "cell_type": "markdown",
   "metadata": {},
   "source": [
    "### let's check if the data has missing values"
   ]
  },
  {
   "cell_type": "code",
   "execution_count": 10,
   "metadata": {},
   "outputs": [
    {
     "name": "stdout",
     "output_type": "stream",
     "text": [
      "Year            0\n",
      "Month          72\n",
      "DAS (USD)       1\n",
      "IFEM (USD)      0\n",
      "BDC (USD)       0\n",
      "GB Pounds       0\n",
      "EURO            0\n",
      "CFA Franc     206\n",
      "dtype: int64\n"
     ]
    }
   ],
   "source": [
    "print(df.isna().sum())"
   ]
  },
  {
   "cell_type": "code",
   "execution_count": 11,
   "metadata": {},
   "outputs": [],
   "source": [
    "df = df.drop(columns=df.columns[[1, 7]])"
   ]
  },
  {
   "cell_type": "code",
   "execution_count": 12,
   "metadata": {},
   "outputs": [
    {
     "name": "stdout",
     "output_type": "stream",
     "text": [
      "   Year  DAS (USD)  IFEM (USD) BDC (USD)  GB Pounds  EURO\n",
      "1  2004     137.76      147.65    247.93     171.67  0.16\n",
      "2  2004     136.44      142.95    252.78     171.09  0.20\n",
      "3  2004     134.80      139.92    245.47     164.88  0.25\n",
      "4  2004     137.23      138.85    240.26     159.87  0.24\n",
      "5  2004     134.81      139.64    237.80     159.75  0.24\n"
     ]
    }
   ],
   "source": [
    "print(df.head())"
   ]
  },
  {
   "cell_type": "code",
   "execution_count": 13,
   "metadata": {},
   "outputs": [
    {
     "data": {
      "text/plain": [
       "Index(['Year', 'DAS (USD)', 'IFEM (USD)', 'BDC (USD)', 'GB Pounds', 'EURO'], dtype='object')"
      ]
     },
     "execution_count": 13,
     "metadata": {},
     "output_type": "execute_result"
    }
   ],
   "source": [
    "df.columns"
   ]
  },
  {
   "cell_type": "markdown",
   "metadata": {},
   "source": [
    "### lett's change the column names"
   ]
  },
  {
   "cell_type": "code",
   "execution_count": 14,
   "metadata": {},
   "outputs": [
    {
     "name": "stdout",
     "output_type": "stream",
     "text": [
      "   Year  DAS (USD)  IFEM (USD) BDC (USD)  GB Pounds  EURO\n",
      "1  2004     137.76      147.65    247.93     171.67  0.16\n",
      "2  2004     136.44      142.95    252.78     171.09  0.20\n",
      "3  2004     134.80      139.92    245.47     164.88  0.25\n",
      "4  2004     137.23      138.85    240.26     159.87  0.24\n",
      "5  2004     134.81      139.64    237.80     159.75  0.24\n"
     ]
    }
   ],
   "source": [
    "print(df.head())"
   ]
  },
  {
   "cell_type": "code",
   "execution_count": 15,
   "metadata": {},
   "outputs": [
    {
     "data": {
      "text/html": [
       "<div>\n",
       "<style scoped>\n",
       "    .dataframe tbody tr th:only-of-type {\n",
       "        vertical-align: middle;\n",
       "    }\n",
       "\n",
       "    .dataframe tbody tr th {\n",
       "        vertical-align: top;\n",
       "    }\n",
       "\n",
       "    .dataframe thead th {\n",
       "        text-align: right;\n",
       "    }\n",
       "</style>\n",
       "<table border=\"1\" class=\"dataframe\">\n",
       "  <thead>\n",
       "    <tr style=\"text-align: right;\">\n",
       "      <th></th>\n",
       "      <th>Year</th>\n",
       "      <th>DAS (USD)</th>\n",
       "      <th>IFEM (USD)</th>\n",
       "      <th>BDC (USD)</th>\n",
       "      <th>GB Pounds</th>\n",
       "      <th>EURO</th>\n",
       "    </tr>\n",
       "  </thead>\n",
       "  <tbody>\n",
       "    <tr>\n",
       "      <th>1</th>\n",
       "      <td>2004</td>\n",
       "      <td>137.76</td>\n",
       "      <td>147.65</td>\n",
       "      <td>247.93</td>\n",
       "      <td>171.67</td>\n",
       "      <td>0.16</td>\n",
       "    </tr>\n",
       "    <tr>\n",
       "      <th>2</th>\n",
       "      <td>2004</td>\n",
       "      <td>136.44</td>\n",
       "      <td>142.95</td>\n",
       "      <td>252.78</td>\n",
       "      <td>171.09</td>\n",
       "      <td>0.20</td>\n",
       "    </tr>\n",
       "    <tr>\n",
       "      <th>3</th>\n",
       "      <td>2004</td>\n",
       "      <td>134.80</td>\n",
       "      <td>139.92</td>\n",
       "      <td>245.47</td>\n",
       "      <td>164.88</td>\n",
       "      <td>0.25</td>\n",
       "    </tr>\n",
       "    <tr>\n",
       "      <th>4</th>\n",
       "      <td>2004</td>\n",
       "      <td>137.23</td>\n",
       "      <td>138.85</td>\n",
       "      <td>240.26</td>\n",
       "      <td>159.87</td>\n",
       "      <td>0.24</td>\n",
       "    </tr>\n",
       "    <tr>\n",
       "      <th>5</th>\n",
       "      <td>2004</td>\n",
       "      <td>134.81</td>\n",
       "      <td>139.64</td>\n",
       "      <td>237.80</td>\n",
       "      <td>159.75</td>\n",
       "      <td>0.24</td>\n",
       "    </tr>\n",
       "  </tbody>\n",
       "</table>\n",
       "</div>"
      ],
      "text/plain": [
       "   Year  DAS (USD)  IFEM (USD) BDC (USD)  GB Pounds  EURO\n",
       "1  2004     137.76      147.65    247.93     171.67  0.16\n",
       "2  2004     136.44      142.95    252.78     171.09  0.20\n",
       "3  2004     134.80      139.92    245.47     164.88  0.25\n",
       "4  2004     137.23      138.85    240.26     159.87  0.24\n",
       "5  2004     134.81      139.64    237.80     159.75  0.24"
      ]
     },
     "metadata": {},
     "output_type": "display_data"
    }
   ],
   "source": [
    "display(df.head())"
   ]
  },
  {
   "cell_type": "markdown",
   "metadata": {},
   "source": [
    "### checking my dataset type before plotting graph"
   ]
  },
  {
   "cell_type": "code",
   "execution_count": 16,
   "metadata": {},
   "outputs": [
    {
     "data": {
      "text/plain": [
       "Year            int64\n",
       "DAS (USD)     float64\n",
       "IFEM (USD)    float64\n",
       "BDC (USD)      object\n",
       "GB Pounds     float64\n",
       "EURO          float64\n",
       "dtype: object"
      ]
     },
     "execution_count": 16,
     "metadata": {},
     "output_type": "execute_result"
    }
   ],
   "source": [
    "df.dtypes"
   ]
  },
  {
   "cell_type": "code",
   "execution_count": 17,
   "metadata": {},
   "outputs": [],
   "source": [
    "for col in df.columns[1:]:\n",
    "    df[col] = pd.to_numeric(df[col], errors='coerce')"
   ]
  },
  {
   "cell_type": "code",
   "execution_count": 18,
   "metadata": {},
   "outputs": [
    {
     "data": {
      "text/plain": [
       "Year            int64\n",
       "DAS (USD)     float64\n",
       "IFEM (USD)    float64\n",
       "BDC (USD)     float64\n",
       "GB Pounds     float64\n",
       "EURO          float64\n",
       "dtype: object"
      ]
     },
     "execution_count": 18,
     "metadata": {},
     "output_type": "execute_result"
    }
   ],
   "source": [
    "df.dtypes"
   ]
  },
  {
   "cell_type": "code",
   "execution_count": 19,
   "metadata": {},
   "outputs": [
    {
     "name": "stdout",
     "output_type": "stream",
     "text": [
      "   Year  DAS (USD)  IFEM (USD)  BDC (USD)  GB Pounds  EURO\n",
      "1  2004     137.76      147.65     247.93     171.67  0.16\n",
      "2  2004     136.44      142.95     252.78     171.09  0.20\n",
      "3  2004     134.80      139.92     245.47     164.88  0.25\n",
      "4  2004     137.23      138.85     240.26     159.87  0.24\n",
      "5  2004     134.81      139.64     237.80     159.75  0.24\n"
     ]
    }
   ],
   "source": [
    "print(df.head())"
   ]
  },
  {
   "cell_type": "code",
   "execution_count": 20,
   "metadata": {},
   "outputs": [
    {
     "data": {
      "text/html": [
       "<div>\n",
       "<style scoped>\n",
       "    .dataframe tbody tr th:only-of-type {\n",
       "        vertical-align: middle;\n",
       "    }\n",
       "\n",
       "    .dataframe tbody tr th {\n",
       "        vertical-align: top;\n",
       "    }\n",
       "\n",
       "    .dataframe thead th {\n",
       "        text-align: right;\n",
       "    }\n",
       "</style>\n",
       "<table border=\"1\" class=\"dataframe\">\n",
       "  <thead>\n",
       "    <tr style=\"text-align: right;\">\n",
       "      <th></th>\n",
       "      <th>Year</th>\n",
       "      <th>DAS (USD)</th>\n",
       "      <th>IFEM (USD)</th>\n",
       "      <th>BDC (USD)</th>\n",
       "      <th>GB Pounds</th>\n",
       "      <th>EURO</th>\n",
       "    </tr>\n",
       "  </thead>\n",
       "  <tbody>\n",
       "    <tr>\n",
       "      <th>1</th>\n",
       "      <td>2004</td>\n",
       "      <td>137.76</td>\n",
       "      <td>147.65</td>\n",
       "      <td>247.93</td>\n",
       "      <td>171.67</td>\n",
       "      <td>0.16</td>\n",
       "    </tr>\n",
       "    <tr>\n",
       "      <th>2</th>\n",
       "      <td>2004</td>\n",
       "      <td>136.44</td>\n",
       "      <td>142.95</td>\n",
       "      <td>252.78</td>\n",
       "      <td>171.09</td>\n",
       "      <td>0.20</td>\n",
       "    </tr>\n",
       "    <tr>\n",
       "      <th>3</th>\n",
       "      <td>2004</td>\n",
       "      <td>134.80</td>\n",
       "      <td>139.92</td>\n",
       "      <td>245.47</td>\n",
       "      <td>164.88</td>\n",
       "      <td>0.25</td>\n",
       "    </tr>\n",
       "    <tr>\n",
       "      <th>4</th>\n",
       "      <td>2004</td>\n",
       "      <td>137.23</td>\n",
       "      <td>138.85</td>\n",
       "      <td>240.26</td>\n",
       "      <td>159.87</td>\n",
       "      <td>0.24</td>\n",
       "    </tr>\n",
       "    <tr>\n",
       "      <th>5</th>\n",
       "      <td>2004</td>\n",
       "      <td>134.81</td>\n",
       "      <td>139.64</td>\n",
       "      <td>237.80</td>\n",
       "      <td>159.75</td>\n",
       "      <td>0.24</td>\n",
       "    </tr>\n",
       "  </tbody>\n",
       "</table>\n",
       "</div>"
      ],
      "text/plain": [
       "   Year  DAS (USD)  IFEM (USD)  BDC (USD)  GB Pounds  EURO\n",
       "1  2004     137.76      147.65     247.93     171.67  0.16\n",
       "2  2004     136.44      142.95     252.78     171.09  0.20\n",
       "3  2004     134.80      139.92     245.47     164.88  0.25\n",
       "4  2004     137.23      138.85     240.26     159.87  0.24\n",
       "5  2004     134.81      139.64     237.80     159.75  0.24"
      ]
     },
     "metadata": {},
     "output_type": "display_data"
    }
   ],
   "source": [
    "display(df.head())"
   ]
  },
  {
   "cell_type": "code",
   "execution_count": 21,
   "metadata": {},
   "outputs": [
    {
     "data": {
      "text/plain": [
       "Year          206\n",
       "DAS (USD)     205\n",
       "IFEM (USD)    206\n",
       "BDC (USD)     205\n",
       "GB Pounds     206\n",
       "EURO          206\n",
       "dtype: int64"
      ]
     },
     "execution_count": 21,
     "metadata": {},
     "output_type": "execute_result"
    }
   ],
   "source": [
    "df.count()"
   ]
  },
  {
   "cell_type": "code",
   "execution_count": 22,
   "metadata": {},
   "outputs": [
    {
     "data": {
      "text/html": [
       "<div>\n",
       "<style scoped>\n",
       "    .dataframe tbody tr th:only-of-type {\n",
       "        vertical-align: middle;\n",
       "    }\n",
       "\n",
       "    .dataframe tbody tr th {\n",
       "        vertical-align: top;\n",
       "    }\n",
       "\n",
       "    .dataframe thead th {\n",
       "        text-align: right;\n",
       "    }\n",
       "</style>\n",
       "<table border=\"1\" class=\"dataframe\">\n",
       "  <thead>\n",
       "    <tr style=\"text-align: right;\">\n",
       "      <th></th>\n",
       "      <th>Year</th>\n",
       "      <th>DAS (USD)</th>\n",
       "      <th>IFEM (USD)</th>\n",
       "      <th>BDC (USD)</th>\n",
       "      <th>GB Pounds</th>\n",
       "      <th>EURO</th>\n",
       "    </tr>\n",
       "  </thead>\n",
       "  <tbody>\n",
       "    <tr>\n",
       "      <th>1</th>\n",
       "      <td>2004</td>\n",
       "      <td>137.76</td>\n",
       "      <td>147.65</td>\n",
       "      <td>247.93</td>\n",
       "      <td>171.67</td>\n",
       "      <td>0.16</td>\n",
       "    </tr>\n",
       "    <tr>\n",
       "      <th>2</th>\n",
       "      <td>2004</td>\n",
       "      <td>136.44</td>\n",
       "      <td>142.95</td>\n",
       "      <td>252.78</td>\n",
       "      <td>171.09</td>\n",
       "      <td>0.20</td>\n",
       "    </tr>\n",
       "    <tr>\n",
       "      <th>3</th>\n",
       "      <td>2004</td>\n",
       "      <td>134.80</td>\n",
       "      <td>139.92</td>\n",
       "      <td>245.47</td>\n",
       "      <td>164.88</td>\n",
       "      <td>0.25</td>\n",
       "    </tr>\n",
       "    <tr>\n",
       "      <th>4</th>\n",
       "      <td>2004</td>\n",
       "      <td>137.23</td>\n",
       "      <td>138.85</td>\n",
       "      <td>240.26</td>\n",
       "      <td>159.87</td>\n",
       "      <td>0.24</td>\n",
       "    </tr>\n",
       "    <tr>\n",
       "      <th>5</th>\n",
       "      <td>2004</td>\n",
       "      <td>134.81</td>\n",
       "      <td>139.64</td>\n",
       "      <td>237.80</td>\n",
       "      <td>159.75</td>\n",
       "      <td>0.24</td>\n",
       "    </tr>\n",
       "  </tbody>\n",
       "</table>\n",
       "</div>"
      ],
      "text/plain": [
       "   Year  DAS (USD)  IFEM (USD)  BDC (USD)  GB Pounds  EURO\n",
       "1  2004     137.76      147.65     247.93     171.67  0.16\n",
       "2  2004     136.44      142.95     252.78     171.09  0.20\n",
       "3  2004     134.80      139.92     245.47     164.88  0.25\n",
       "4  2004     137.23      138.85     240.26     159.87  0.24\n",
       "5  2004     134.81      139.64     237.80     159.75  0.24"
      ]
     },
     "metadata": {},
     "output_type": "display_data"
    }
   ],
   "source": [
    "display(df.head())"
   ]
  },
  {
   "cell_type": "markdown",
   "metadata": {},
   "source": [
    "### I'm having issues with the column names, so, let me change them"
   ]
  },
  {
   "cell_type": "code",
   "execution_count": 23,
   "metadata": {},
   "outputs": [],
   "source": [
    "new_col_names = ['Year', 'DAS_USD', 'IFEM_USD', 'BDC_USD', 'GB_POUNDS', 'EURO']\n",
    "df.columns = new_col_names"
   ]
  },
  {
   "cell_type": "code",
   "execution_count": 24,
   "metadata": {},
   "outputs": [],
   "source": [
    "# df.columns = map(str.upper, df.columns)\n",
    "# #df.rename(columns=lambda x:x+'', inplace=True)\n",
    "# df.rename(columns={'TIMESERIES_USD': 'Time Series'}, inplace=True)"
   ]
  },
  {
   "cell_type": "code",
   "execution_count": 25,
   "metadata": {},
   "outputs": [
    {
     "data": {
      "text/html": [
       "<div>\n",
       "<style scoped>\n",
       "    .dataframe tbody tr th:only-of-type {\n",
       "        vertical-align: middle;\n",
       "    }\n",
       "\n",
       "    .dataframe tbody tr th {\n",
       "        vertical-align: top;\n",
       "    }\n",
       "\n",
       "    .dataframe thead th {\n",
       "        text-align: right;\n",
       "    }\n",
       "</style>\n",
       "<table border=\"1\" class=\"dataframe\">\n",
       "  <thead>\n",
       "    <tr style=\"text-align: right;\">\n",
       "      <th></th>\n",
       "      <th>Year</th>\n",
       "      <th>DAS_USD</th>\n",
       "      <th>IFEM_USD</th>\n",
       "      <th>BDC_USD</th>\n",
       "      <th>GB_POUNDS</th>\n",
       "      <th>EURO</th>\n",
       "    </tr>\n",
       "  </thead>\n",
       "  <tbody>\n",
       "    <tr>\n",
       "      <th>1</th>\n",
       "      <td>2004</td>\n",
       "      <td>137.76</td>\n",
       "      <td>147.65</td>\n",
       "      <td>247.93</td>\n",
       "      <td>171.67</td>\n",
       "      <td>0.16</td>\n",
       "    </tr>\n",
       "    <tr>\n",
       "      <th>2</th>\n",
       "      <td>2004</td>\n",
       "      <td>136.44</td>\n",
       "      <td>142.95</td>\n",
       "      <td>252.78</td>\n",
       "      <td>171.09</td>\n",
       "      <td>0.20</td>\n",
       "    </tr>\n",
       "    <tr>\n",
       "      <th>3</th>\n",
       "      <td>2004</td>\n",
       "      <td>134.80</td>\n",
       "      <td>139.92</td>\n",
       "      <td>245.47</td>\n",
       "      <td>164.88</td>\n",
       "      <td>0.25</td>\n",
       "    </tr>\n",
       "    <tr>\n",
       "      <th>4</th>\n",
       "      <td>2004</td>\n",
       "      <td>137.23</td>\n",
       "      <td>138.85</td>\n",
       "      <td>240.26</td>\n",
       "      <td>159.87</td>\n",
       "      <td>0.24</td>\n",
       "    </tr>\n",
       "    <tr>\n",
       "      <th>5</th>\n",
       "      <td>2004</td>\n",
       "      <td>134.81</td>\n",
       "      <td>139.64</td>\n",
       "      <td>237.80</td>\n",
       "      <td>159.75</td>\n",
       "      <td>0.24</td>\n",
       "    </tr>\n",
       "  </tbody>\n",
       "</table>\n",
       "</div>"
      ],
      "text/plain": [
       "   Year  DAS_USD  IFEM_USD  BDC_USD  GB_POUNDS  EURO\n",
       "1  2004   137.76    147.65   247.93     171.67  0.16\n",
       "2  2004   136.44    142.95   252.78     171.09  0.20\n",
       "3  2004   134.80    139.92   245.47     164.88  0.25\n",
       "4  2004   137.23    138.85   240.26     159.87  0.24\n",
       "5  2004   134.81    139.64   237.80     159.75  0.24"
      ]
     },
     "metadata": {},
     "output_type": "display_data"
    }
   ],
   "source": [
    "display(df.head())"
   ]
  },
  {
   "cell_type": "code",
   "execution_count": 26,
   "metadata": {},
   "outputs": [],
   "source": [
    "df_groupby_mok = df.groupby('Year').DAS_USD.mean().reset_index()"
   ]
  },
  {
   "cell_type": "code",
   "execution_count": 27,
   "metadata": {},
   "outputs": [
    {
     "data": {
      "image/png": "[encoded data removed]",
      "text/plain": [
       "<Figure size 1440x576 with 1 Axes>"
      ]
     },
     "metadata": {},
     "output_type": "display_data"
    }
   ],
   "source": [
    "x = df_groupby_mok['Year'].astype(str)\n",
    "y = df_groupby_mok['DAS_USD']\n",
    "sns.set()\n",
    "plt.figure(figsize=(20, 8))\n",
    "plt.plot(x, y)\n",
    "plt.title(\"Exchange Rate: Naira / USD\")\n",
    "plt.xlabel('Year')\n",
    "plt.ylabel(\"Exchange Rate\")\n",
    "plt.show()"
   ]
  },
  {
   "cell_type": "code",
   "execution_count": 28,
   "metadata": {},
   "outputs": [],
   "source": [
    "df_groupby_mok_pounds = df.groupby('Year').GB_POUNDS.mean().reset_index()"
   ]
  },
  {
   "cell_type": "code",
   "execution_count": 29,
   "metadata": {},
   "outputs": [
    {
     "data": {
      "image/png": "[encoded data removed]",
      "text/plain": [
       "<Figure size 1440x576 with 1 Axes>"
      ]
     },
     "metadata": {},
     "output_type": "display_data"
    }
   ],
   "source": [
    "x = df_groupby_mok_pounds['Year'].astype(str)\n",
    "y = df_groupby_mok_pounds['GB_POUNDS']\n",
    "sns.set()\n",
    "plt.figure(figsize=(20, 8))\n",
    "plt.plot(x, y)\n",
    "plt.title(\"Exchange Rate: Naira / POUNDS\")\n",
    "plt.xlabel('Year')\n",
    "plt.ylabel(\"Exchange Rate\")\n",
    "plt.show()"
   ]
  },
  {
   "cell_type": "code",
   "execution_count": 30,
   "metadata": {},
   "outputs": [],
   "source": [
    "df_groupby_mok_euro = df.groupby('Year').EURO.mean().reset_index()"
   ]
  },
  {
   "cell_type": "code",
   "execution_count": 31,
   "metadata": {},
   "outputs": [
    {
     "data": {
      "image/png": "[encoded data removed]",
      "text/plain": [
       "<Figure size 1440x576 with 1 Axes>"
      ]
     },
     "metadata": {},
     "output_type": "display_data"
    }
   ],
   "source": [
    "x = df_groupby_mok_euro['Year'].astype(str)\n",
    "y = df_groupby_mok_euro['EURO']\n",
    "sns.set()\n",
    "plt.figure(figsize=(20, 8))\n",
    "plt.plot(x, y)\n",
    "plt.title(\"Exchange Rate: Naira / EURO\")\n",
    "plt.xlabel('Year')\n",
    "plt.ylabel(\"Exchange Rate\")\n",
    "plt.show()"
   ]
  },
  {
   "cell_type": "markdown",
   "metadata": {},
   "source": [
    "#### this is showing like this because that'show CBN gave the data"
   ]
  },
  {
   "cell_type": "markdown",
   "metadata": {},
   "source": [
    "#### so let's compare all avaiable currencies"
   ]
  },
  {
   "cell_type": "code",
   "execution_count": 32,
   "metadata": {},
   "outputs": [
    {
     "data": {
      "image/png": "[encoded data removed]",
      "text/plain": [
       "<Figure size 432x288 with 1 Axes>"
      ]
     },
     "metadata": {},
     "output_type": "display_data"
    }
   ],
   "source": [
    "# t = df['Year']\n",
    "# s = df[['DAS_USD', 'GB_POUNDS', 'EURO']]\n",
    "# plt.figure(figsize=(10, 2))\n",
    "# plt.hist(t, s)\n",
    "# plt.legend(['distribution'])\n",
    "# plt.show()\n",
    "\n",
    "\n",
    "\n",
    "\n",
    "# Generate data on commute times.\n",
    "size, scale = 1000, 10\n",
    "commutes = pd.Series(np.random.gamma(scale, size=size) ** 1.5)\n",
    "\n",
    "commutes.plot.hist(grid=True, bins=20, rwidth=0.9,\n",
    "                   color='#607c8e')\n",
    "plt.title('Commute Times for 1,000 Commuters')\n",
    "plt.xlabel('Counts')\n",
    "plt.ylabel('Commute Time')\n",
    "plt.grid(axis='y', alpha=0.75)"
   ]
  },
  {
   "cell_type": "code",
   "execution_count": null,
   "metadata": {},
   "outputs": [],
   "source": []
  },
  {
   "cell_type": "code",
   "execution_count": 33,
   "metadata": {},
   "outputs": [],
   "source": [
    "# # just the see my column names\n",
    "# df.head(3)"
   ]
  },
  {
   "cell_type": "code",
   "execution_count": 34,
   "metadata": {},
   "outputs": [],
   "source": [
    "# df['DAS_USD'].count()"
   ]
  },
  {
   "cell_type": "code",
   "execution_count": 45,
   "metadata": {},
   "outputs": [
    {
     "data": {
      "text/html": [
       "<div>\n",
       "<style scoped>\n",
       "    .dataframe tbody tr th:only-of-type {\n",
       "        vertical-align: middle;\n",
       "    }\n",
       "\n",
       "    .dataframe tbody tr th {\n",
       "        vertical-align: top;\n",
       "    }\n",
       "\n",
       "    .dataframe thead th {\n",
       "        text-align: right;\n",
       "    }\n",
       "</style>\n",
       "<table border=\"1\" class=\"dataframe\">\n",
       "  <thead>\n",
       "    <tr style=\"text-align: right;\">\n",
       "      <th></th>\n",
       "      <th>Year</th>\n",
       "      <th>DAS_mean</th>\n",
       "      <th>IFEM_mean</th>\n",
       "      <th>BDC_mean</th>\n",
       "      <th>GB_mean</th>\n",
       "      <th>EURO_mean</th>\n",
       "      <th>USD_mean</th>\n",
       "    </tr>\n",
       "  </thead>\n",
       "  <tbody>\n",
       "    <tr>\n",
       "      <th>0</th>\n",
       "      <td>2004</td>\n",
       "      <td>134.668333</td>\n",
       "      <td>140.850000</td>\n",
       "      <td>244.543333</td>\n",
       "      <td>165.990833</td>\n",
       "      <td>0.238333</td>\n",
       "      <td>1</td>\n",
       "    </tr>\n",
       "    <tr>\n",
       "      <th>1</th>\n",
       "      <td>2005</td>\n",
       "      <td>132.995000</td>\n",
       "      <td>142.559167</td>\n",
       "      <td>238.876667</td>\n",
       "      <td>163.390833</td>\n",
       "      <td>0.250000</td>\n",
       "      <td>1</td>\n",
       "    </tr>\n",
       "    <tr>\n",
       "      <th>2</th>\n",
       "      <td>2006</td>\n",
       "      <td>128.672500</td>\n",
       "      <td>137.104167</td>\n",
       "      <td>234.680000</td>\n",
       "      <td>159.387500</td>\n",
       "      <td>0.242500</td>\n",
       "      <td>1</td>\n",
       "    </tr>\n",
       "    <tr>\n",
       "      <th>3</th>\n",
       "      <td>2007</td>\n",
       "      <td>125.745833</td>\n",
       "      <td>127.393333</td>\n",
       "      <td>247.995000</td>\n",
       "      <td>169.637500</td>\n",
       "      <td>0.256667</td>\n",
       "      <td>1</td>\n",
       "    </tr>\n",
       "    <tr>\n",
       "      <th>4</th>\n",
       "      <td>2008</td>\n",
       "      <td>118.996667</td>\n",
       "      <td>120.714167</td>\n",
       "      <td>218.124167</td>\n",
       "      <td>173.146667</td>\n",
       "      <td>0.263333</td>\n",
       "      <td>1</td>\n",
       "    </tr>\n",
       "  </tbody>\n",
       "</table>\n",
       "</div>"
      ],
      "text/plain": [
       "   Year    DAS_mean   IFEM_mean    BDC_mean     GB_mean  EURO_mean  USD_mean\n",
       "0  2004  134.668333  140.850000  244.543333  165.990833   0.238333         1\n",
       "1  2005  132.995000  142.559167  238.876667  163.390833   0.250000         1\n",
       "2  2006  128.672500  137.104167  234.680000  159.387500   0.242500         1\n",
       "3  2007  125.745833  127.393333  247.995000  169.637500   0.256667         1\n",
       "4  2008  118.996667  120.714167  218.124167  173.146667   0.263333         1"
      ]
     },
     "execution_count": 45,
     "metadata": {},
     "output_type": "execute_result"
    }
   ],
   "source": [
    "groupby_all = df.groupby('Year').apply(lambda x:pd.Series (\n",
    "    {\n",
    "        'DAS_mean': x['DAS_USD'].mean(),\n",
    "        'IFEM_mean': x['IFEM_USD'].mean(),\n",
    "        'BDC_mean': x['BDC_USD'].mean(),\n",
    "        'BDC_mean': x['BDC_USD'].mean(),\n",
    "        'GB_mean': x['GB_POUNDS'].mean(),\n",
    "        'EURO_mean': x['EURO'].mean()\n",
    "    })).reset_index()\n",
    "groupby_all = pd.DataFrame(groupby_all)\n",
    "groupby_all['USD_mean'] = [1 for i in range(18)]\n",
    "groupby_all.head()"
   ]
  },
  {
   "cell_type": "code",
   "execution_count": 36,
   "metadata": {},
   "outputs": [],
   "source": [
    "# y_all = groupby_all[['DAS_mean', 'IFEM_mean', 'BDC_mean', 'GB_mean', 'EURO_mean', 'USD_mean']]\n",
    "# labels = ['DAS_mean', 'IFEM_mean', 'BDC_mean', 'GB_mean', 'EURO_mean', 'USD_mean']\n",
    "# x_ticks = list(range(1, 205, 12))\n",
    "# x_ticklabels = [x for x in range(2004, 2021)]\n",
    "\n",
    "\n",
    "\n",
    "# plt.figure(figsize=(19, 8))\n",
    "# ax = plt.subplot()\n",
    "# plt.plot(x, y_all)\n",
    "# ax.set_xticks(x_ticks)\n",
    "# ax.set_xticklabels(x_ticklabels)\n",
    "# plt.legend(labels)\n",
    "# plt.title(\"Exchange Rate: Top Countries / USD\")\n",
    "# plt.xlabel(\"Year\")\n",
    "# plt.ylabel(\"Exchange Rate\")\n",
    "# plt.show()"
   ]
  },
  {
   "cell_type": "code",
   "execution_count": 37,
   "metadata": {},
   "outputs": [],
   "source": [
    "# # just to see my tables and not to be moving up and down\n",
    "# df.head(2)\n"
   ]
  },
  {
   "cell_type": "code",
   "execution_count": 38,
   "metadata": {},
   "outputs": [],
   "source": [
    "# sup_sgd = df.loc[:,['DAS_USD', 'IFEM_USD']]\n",
    "\n",
    "# sup = np.array(sup_sgd.iloc[:,0])\n",
    "# sgd = np.array(sup_sgd.iloc[:,1])"
   ]
  },
  {
   "cell_type": "markdown",
   "metadata": {},
   "source": [
    "#### statsmodels library to do power Analysis"
   ]
  },
  {
   "cell_type": "code",
   "execution_count": 39,
   "metadata": {},
   "outputs": [],
   "source": [
    "# import statsmodels.stats.power as sms\n",
    "# n = sms.TTestPower().solve_power(effect_size=0.3, power=0.9, alpha=0.05)\n",
    "# print(n)"
   ]
  },
  {
   "cell_type": "code",
   "execution_count": 40,
   "metadata": {},
   "outputs": [],
   "source": [
    "# sup_sample = np.random.choice(sup, size=118)\n",
    "# sgd_sample = np.random.choice(sgd,size=118)"
   ]
  },
  {
   "cell_type": "code",
   "execution_count": 41,
   "metadata": {},
   "outputs": [],
   "source": [
    "# from scipy import stats\n",
    "# from scipy.stats import shapiro, pearsonr\n",
    "\n",
    "\n",
    "# stat, p1 = shapiro(sup_sample)\n",
    "# stat, p2 = shapiro(sgd_sample)\n",
    "# display(p1)\n",
    "# display(p2)\n",
    "\n",
    "# stat, p3 = pearsonr(sup_sample, sgd_sample)\n",
    "# display(p3)"
   ]
  },
  {
   "cell_type": "code",
   "execution_count": null,
   "metadata": {},
   "outputs": [],
   "source": []
  },
  {
   "cell_type": "code",
   "execution_count": 42,
   "metadata": {},
   "outputs": [],
   "source": [
    "# from scipy.stats import ttest_ind\n",
    "# tstat, pval = ttest_ind(sup_sample,sgd_sample)\n",
    "# print(pval)"
   ]
  },
  {
   "cell_type": "code",
   "execution_count": 43,
   "metadata": {},
   "outputs": [],
   "source": [
    "# ir_df = pd.read_csv('./exchange22032021.csv')\n",
    "# ir_df.head()"
   ]
  },
  {
   "cell_type": "code",
   "execution_count": 44,
   "metadata": {},
   "outputs": [
    {
     "ename": "SyntaxError",
     "evalue": "invalid syntax (<ipython-input-44-09285ed6cc52>, line 1)",
     "output_type": "error",
     "traceback": [
      "\u001b[0;36m  File \u001b[0;32m\"<ipython-input-44-09285ed6cc52>\"\u001b[0;36m, line \u001b[0;32m1\u001b[0m\n\u001b[0;31m    x_ir = ir_df[]\u001b[0m\n\u001b[0m                 ^\u001b[0m\n\u001b[0;31mSyntaxError\u001b[0m\u001b[0;31m:\u001b[0m invalid syntax\n"
     ]
    }
   ],
   "source": [
    "x_ir = ir_df[]"
   ]
  }
 ],
 "metadata": {
  "kernelspec": {
   "display_name": "Python 3",
   "language": "python",
   "name": "python3"
  },
  "language_info": {
   "codemirror_mode": {
    "name": "ipython",
    "version": 3
   },
   "file_extension": ".py",
   "mimetype": "text/x-python",
   "name": "python",
   "nbconvert_exporter": "python",
   "pygments_lexer": "ipython3",
   "version": "3.8.5"
  }
 },
 "nbformat": 4,
 "nbformat_minor": 4
}
